{
 "cells": [
  {
   "cell_type": "code",
   "execution_count": null,
   "metadata": {
    "collapsed": true
   },
   "outputs": [],
   "source": [
    "# -*- coding: utf-8 -*-\n",
    "import re\n",
    "import os\n",
    "from lxml import html\n",
    "import csv\n",
    "from utils import *\n",
    "\n",
    "import sys\n",
    "reload(sys)\n",
    "sys.setdefaultencoding('utf-8')"
   ]
  },
  {
   "cell_type": "code",
   "execution_count": 27,
   "metadata": {
    "collapsed": true
   },
   "outputs": [],
   "source": [
    "def run():\n",
    "    L = file_name('one')\n",
    "\n",
    "    fw = open('result.csv', 'w')\n",
    "    writer = csv.writer(fw)\n",
    "    file_header = ['id', 'filename']\n",
    "    writer.writerow(file_header)\n",
    "    # 记录错误情况\n",
    "    # fe = open('error.csv', 'w')\n",
    "    error_title = ['title']\n",
    "\n",
    "    for l in L:\n",
    "        f = open(name=l, mode='r')\n",
    "\n",
    "        text = f.read()\n",
    "        tree = html.fromstring(text)\n",
    "\n",
    "        result = []\n",
    "        result.append(l[4:])\n",
    "        # 读取title 电影名\n",
    "        try:\n",
    "            title = str(tree.xpath('//*[@id=\"productTitle\"]/text()')[0])\n",
    "            print title\n",
    "            title = delete_format(title)\n",
    "            result.append(title)\n",
    "        except:\n",
    "            error_title.append(l)\n",
    "\n",
    "        # 获取content 部分的内容\n",
    "        \n",
    "\n",
    "        writer.writerow(result)\n",
    "        f.close()\n",
    "\n",
    "    fw.close()\n",
    "    # fe_writer = csv.writer(fe)\n",
    "\n",
    "\n",
    "    # fe_writer.writerow(error_title)\n",
    "    # fe.close()\n",
    "\n",
    "run()"
   ]
  },
  {
   "cell_type": "code",
   "execution_count": 36,
   "metadata": {
    "collapsed": false
   },
   "outputs": [],
   "source": [
    "f = open(name='one/074031274X.html', mode='r')\n",
    "\n",
    "text = f.read()\n",
    "tree = html.fromstring(text)\n",
    "    \n",
    "    \n",
    "contents = []\n",
    "a = tree.xpath('//*[@id=\"detail-bullets\"]/table/tr/td/div/ul//li')\n",
    "for e in a:\n",
    "#     print try_find_child(e)\n",
    "    print e.text\n",
    "#     children = e.getchildren()\n",
    "#     text = children[0].text.replace(':','')\n",
    "#     print children[0].text\n",
    "#     contents.append(text)\n",
    "#     print type(children[0].text)\n",
    "    print type(e.xpath('string(.)'))\n",
    "\n",
    "# print contents\n",
    "    "
   ]
  }
 ],
 "metadata": {
  "kernelspec": {
   "display_name": "Python 2",
   "language": "python",
   "name": "python2"
  },
  "language_info": {
   "codemirror_mode": {
    "name": "ipython",
    "version": 2
   },
   "file_extension": ".py",
   "mimetype": "text/x-python",
   "name": "python",
   "nbconvert_exporter": "python",
   "pygments_lexer": "ipython2",
   "version": "2.7.10"
  }
 },
 "nbformat": 4,
 "nbformat_minor": 1
}
