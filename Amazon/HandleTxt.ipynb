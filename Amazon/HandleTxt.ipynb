{
 "cells": [
  {
   "cell_type": "code",
   "execution_count": null,
   "metadata": {
    "collapsed": true
   },
   "outputs": [],
   "source": [
    "# -*- coding: utf-8 -*-\n",
    "import re\n",
    "import os\n",
    "import csv\n",
    "from Support import *\n",
    "\n",
    "import sys\n",
    "reload(sys)\n",
    "sys.setdefaultencoding('utf-8')"
   ]
  },
  {
   "cell_type": "code",
   "execution_count": null,
   "metadata": {
    "collapsed": false
   },
   "outputs": [],
   "source": [
    "def errorData():\n",
    "    fe = open('error/dislocation_error.txt', 'w')\n",
    "    fn = open('new_moives.txt', 'w')\n",
    "    count = 0\n",
    "    tmp = \"\"\n",
    "    with open('movies.txt', 'r') as fo:          \n",
    "        for line in fo:\n",
    "            count += 1\n",
    "            if line == '\\n':\n",
    "                fn.write(line)\n",
    "                continue\n",
    "            if len(re.findall(pattern=dislocationPattern, string=line)) == 0:\n",
    "                error = \"error_\" + str(count)\n",
    "                print error\n",
    "                fe.write(error + \" | \" + tmp + \" | \" + line)\n",
    "                print tmp + \" | \" + line\n",
    "                \n",
    "            else:\n",
    "                tmp = line\n",
    "                fn.write(line)\n",
    "    fn.close()\n",
    "    fo.close()\n",
    "    fe.close()\n",
    "        "
   ]
  },
  {
   "cell_type": "code",
   "execution_count": null,
   "metadata": {
    "collapsed": true
   },
   "outputs": [],
   "source": [
    "def run():\n",
    "    \n",
    "    fe = open('error/error.txt', 'w')\n",
    "    i = 1\n",
    "    product = []\n",
    "    products = []\n",
    "    productsId = set()\n",
    "    count = 0\n",
    "    with open('movies.txt', 'r') as f:\n",
    "        for line in f:          \n",
    "            count += 1\n",
    "            if line == '\\n':\n",
    "                continue\n",
    "            else:\n",
    "                product.append(line.strip('\\n'))\n",
    "                \n",
    "            if(len(product) == 8):\n",
    "                try:\n",
    "                    productId = re.findall(pattern=productIdPattern, string=product[0])[0].strip(' ')\n",
    "                    userId = re.findall(pattern=userIdPattern, string=product[1])[0].strip(' ')\n",
    "                    profileName = re.findall(pattern=profileNameParttern, string=product[2])[0]\n",
    "                    helpfulness = re.findall(pattern=helpfulnessParttern, string=product[3])[0].strip(' ')\n",
    "                    score = re.findall(pattern=scoreParttern, string=product[4])[0].strip(' ')\n",
    "                    time = re.findall(pattern=timeParttern, string=product[5])[0].strip(' ')\n",
    "                    summary = re.findall(pattern=summaryParttern, string=product[6])[0]\n",
    "                    text = re.findall(pattern=textParttern, string=product[7])[0]\n",
    "\n",
    "                    product_tuple = (productId, userId, profileName, helpfulness, score, time, summary, text)\n",
    "\n",
    "                    products.append(product_tuple)\n",
    "\n",
    "                    product = []\n",
    "    \n",
    "                    productsId.add(productId)\n",
    "                except:\n",
    "                    print 'error' + str(count)\n",
    "                    fe.write('error' + str(count))\n",
    "                    break\n",
    "                    \n",
    "                    \n",
    "            if (count / 200000 == i):\n",
    "                wrilteReview(products, i)\n",
    "                products = []\n",
    "                i += 1\n",
    "                print str(count) + \" reviews have been handled!\"\n",
    "\n",
    "    wrilteReview(products, i)\n",
    "\n",
    "    print str(count) + \" reviews have been handled!\"\n",
    "    f.close()\n",
    "    fe.close()\n",
    "    \n",
    "    wrilteId(productsId, 0)\n",
    "\n",
    "def wrilteReview(products, i):\n",
    "    csvfile = open('csv/reviews_'+str(i)+'.csv','w')\n",
    "    writer = csv.writer(csvfile)\n",
    "    writer.writerow(['ProductId','UserId','ProfileName', 'Helpfulness', 'Score', 'Time', 'Summary', 'Text'])\n",
    "    writer.writerows(products)\n",
    "                \n",
    "\n",
    "\n",
    "def wrilteId(productsId, j):\n",
    "    productsId = list(productsId)\n",
    "    csvfile = open('productId_'+str(j)+'.csv','w')\n",
    "    writer = csv.writer(csvfile)\n",
    "    writer.writerow('ProductId')\n",
    "    for i in range(len(productsId)):\n",
    "        writer.writerow(productsId[i])\n",
    "    print str(len(productsId)) + \" product Id get!\"\n",
    "    csvfile.close()\n",
    "    \n",
    "\n",
    "            "
   ]
  },
  {
   "cell_type": "code",
   "execution_count": null,
   "metadata": {
    "collapsed": false
   },
   "outputs": [],
   "source": [
    "if __name__ == '__main__':\n",
    "    errorData()\n",
    "#     run()"
   ]
  }
 ],
 "metadata": {
  "kernelspec": {
   "display_name": "Python 2",
   "language": "python",
   "name": "python2"
  },
  "language_info": {
   "codemirror_mode": {
    "name": "ipython",
    "version": 2
   },
   "file_extension": ".py",
   "mimetype": "text/x-python",
   "name": "python",
   "nbconvert_exporter": "python",
   "pygments_lexer": "ipython2",
   "version": "2.7.10"
  }
 },
 "nbformat": 4,
 "nbformat_minor": 1
}
